{
 "cells": [
  {
   "cell_type": "markdown",
   "id": "4630831b",
   "metadata": {
    "papermill": {
     "duration": 0.011703,
     "end_time": "2022-09-03T06:45:53.782115",
     "exception": false,
     "start_time": "2022-09-03T06:45:53.770412",
     "status": "completed"
    },
    "tags": []
   },
   "source": [
    "<div style=\"border-radius:20px;\n",
    "            border : black solid;\n",
    "            background-color: ##FFFFFF;\n",
    "            font-size:200%;\n",
    "            text-align: left\">\n",
    "\n",
    "<h1 style='; border:0; border-radius: 15px; text-shadow: 1px 1px black; font-weight: bold; color:green'><center> Disaster Tweet Classification using NLP </center></h1>"
   ]
  },
  {
   "cell_type": "markdown",
   "id": "08c1916e",
   "metadata": {
    "papermill": {
     "duration": 0.00898,
     "end_time": "2022-09-03T06:45:53.846984",
     "exception": false,
     "start_time": "2022-09-03T06:45:53.838004",
     "status": "completed"
    },
    "tags": []
   },
   "source": [
    "<div style='font-size:200%;'>\n",
    "    <a id='import'></a>\n",
    "    <h1 style='color: green; font-weight: bold; font-family: Cascadia code;'>\n",
    "        <center> Importing libraries</center>\n",
    "    </h1>\n",
    "  \n",
    "</div>"
   ]
  },
  {
   "cell_type": "code",
   "execution_count": 33,
   "id": "a0050ed8",
   "metadata": {
    "execution": {
     "iopub.execute_input": "2022-09-03T06:45:53.865559Z",
     "iopub.status.busy": "2022-09-03T06:45:53.864726Z",
     "iopub.status.idle": "2022-09-03T06:46:02.968616Z",
     "shell.execute_reply": "2022-09-03T06:46:02.967657Z"
    },
    "papermill": {
     "duration": 9.1157,
     "end_time": "2022-09-03T06:46:02.970870",
     "exception": false,
     "start_time": "2022-09-03T06:45:53.855170",
     "status": "completed"
    },
    "tags": []
   },
   "outputs": [],
   "source": [
    "import numpy as np\n",
    "import pandas as pd\n",
    "import tensorflow as tf\n",
    "import re\n",
    "from collections import defaultdict\n"
   ]
  },
  {
   "cell_type": "code",
   "execution_count": 34,
   "id": "a40697ba",
   "metadata": {},
   "outputs": [
    {
     "data": {
      "text/plain": [
       "[PhysicalDevice(name='/physical_device:GPU:0', device_type='GPU')]"
      ]
     },
     "execution_count": 34,
     "metadata": {},
     "output_type": "execute_result"
    }
   ],
   "source": [
    "tf.config.list_physical_devices('GPU')"
   ]
  },
  {
   "cell_type": "code",
   "execution_count": 35,
   "id": "e1a332a4",
   "metadata": {
    "execution": {
     "iopub.execute_input": "2022-09-03T06:46:02.988615Z",
     "iopub.status.busy": "2022-09-03T06:46:02.988045Z",
     "iopub.status.idle": "2022-09-03T06:46:02.996152Z",
     "shell.execute_reply": "2022-09-03T06:46:02.994029Z"
    },
    "papermill": {
     "duration": 0.019756,
     "end_time": "2022-09-03T06:46:02.998681",
     "exception": false,
     "start_time": "2022-09-03T06:46:02.978925",
     "status": "completed"
    },
    "tags": []
   },
   "outputs": [
    {
     "name": "stdout",
     "output_type": "stream",
     "text": [
      "/Python MP/Dataset\\sample_submission.csv\n",
      "/Python MP/Dataset\\test.csv\n",
      "/Python MP/Dataset\\train.csv\n"
     ]
    }
   ],
   "source": [
    "import os\n",
    "for dirname, _, filenames in os.walk('/Python MP/Dataset'):\n",
    "    for filename in filenames:\n",
    "        print(os.path.join(dirname, filename))\n"
   ]
  },
  {
   "cell_type": "code",
   "execution_count": 36,
   "id": "a3f21cb4",
   "metadata": {
    "execution": {
     "iopub.execute_input": "2022-09-03T06:46:03.016936Z",
     "iopub.status.busy": "2022-09-03T06:46:03.016605Z",
     "iopub.status.idle": "2022-09-03T06:46:03.093045Z",
     "shell.execute_reply": "2022-09-03T06:46:03.092130Z"
    },
    "papermill": {
     "duration": 0.087489,
     "end_time": "2022-09-03T06:46:03.094833",
     "exception": false,
     "start_time": "2022-09-03T06:46:03.007344",
     "status": "completed"
    },
    "scrolled": true,
    "tags": []
   },
   "outputs": [
    {
     "data": {
      "text/html": [
       "<div>\n",
       "<style scoped>\n",
       "    .dataframe tbody tr th:only-of-type {\n",
       "        vertical-align: middle;\n",
       "    }\n",
       "\n",
       "    .dataframe tbody tr th {\n",
       "        vertical-align: top;\n",
       "    }\n",
       "\n",
       "    .dataframe thead th {\n",
       "        text-align: right;\n",
       "    }\n",
       "</style>\n",
       "<table border=\"1\" class=\"dataframe\">\n",
       "  <thead>\n",
       "    <tr style=\"text-align: right;\">\n",
       "      <th></th>\n",
       "      <th>id</th>\n",
       "      <th>keyword</th>\n",
       "      <th>location</th>\n",
       "      <th>text</th>\n",
       "    </tr>\n",
       "  </thead>\n",
       "  <tbody>\n",
       "    <tr>\n",
       "      <th>0</th>\n",
       "      <td>0</td>\n",
       "      <td>NaN</td>\n",
       "      <td>NaN</td>\n",
       "      <td>Just happened a terrible car crash</td>\n",
       "    </tr>\n",
       "    <tr>\n",
       "      <th>1</th>\n",
       "      <td>2</td>\n",
       "      <td>NaN</td>\n",
       "      <td>NaN</td>\n",
       "      <td>Heard about #earthquake is different cities, s...</td>\n",
       "    </tr>\n",
       "    <tr>\n",
       "      <th>2</th>\n",
       "      <td>3</td>\n",
       "      <td>NaN</td>\n",
       "      <td>NaN</td>\n",
       "      <td>there is a forest fire at spot pond, geese are...</td>\n",
       "    </tr>\n",
       "    <tr>\n",
       "      <th>3</th>\n",
       "      <td>9</td>\n",
       "      <td>NaN</td>\n",
       "      <td>NaN</td>\n",
       "      <td>Apocalypse lighting. #Spokane #wildfires</td>\n",
       "    </tr>\n",
       "    <tr>\n",
       "      <th>4</th>\n",
       "      <td>11</td>\n",
       "      <td>NaN</td>\n",
       "      <td>NaN</td>\n",
       "      <td>Typhoon Soudelor kills 28 in China and Taiwan</td>\n",
       "    </tr>\n",
       "    <tr>\n",
       "      <th>...</th>\n",
       "      <td>...</td>\n",
       "      <td>...</td>\n",
       "      <td>...</td>\n",
       "      <td>...</td>\n",
       "    </tr>\n",
       "    <tr>\n",
       "      <th>3258</th>\n",
       "      <td>10861</td>\n",
       "      <td>NaN</td>\n",
       "      <td>NaN</td>\n",
       "      <td>EARTHQUAKE SAFETY LOS ANGELES ÛÒ SAFETY FASTE...</td>\n",
       "    </tr>\n",
       "    <tr>\n",
       "      <th>3259</th>\n",
       "      <td>10865</td>\n",
       "      <td>NaN</td>\n",
       "      <td>NaN</td>\n",
       "      <td>Storm in RI worse than last hurricane. My city...</td>\n",
       "    </tr>\n",
       "    <tr>\n",
       "      <th>3260</th>\n",
       "      <td>10868</td>\n",
       "      <td>NaN</td>\n",
       "      <td>NaN</td>\n",
       "      <td>Green Line derailment in Chicago http://t.co/U...</td>\n",
       "    </tr>\n",
       "    <tr>\n",
       "      <th>3261</th>\n",
       "      <td>10874</td>\n",
       "      <td>NaN</td>\n",
       "      <td>NaN</td>\n",
       "      <td>MEG issues Hazardous Weather Outlook (HWO) htt...</td>\n",
       "    </tr>\n",
       "    <tr>\n",
       "      <th>3262</th>\n",
       "      <td>10875</td>\n",
       "      <td>NaN</td>\n",
       "      <td>NaN</td>\n",
       "      <td>#CityofCalgary has activated its Municipal Eme...</td>\n",
       "    </tr>\n",
       "  </tbody>\n",
       "</table>\n",
       "<p>3263 rows × 4 columns</p>\n",
       "</div>"
      ],
      "text/plain": [
       "         id keyword location  \\\n",
       "0         0     NaN      NaN   \n",
       "1         2     NaN      NaN   \n",
       "2         3     NaN      NaN   \n",
       "3         9     NaN      NaN   \n",
       "4        11     NaN      NaN   \n",
       "...     ...     ...      ...   \n",
       "3258  10861     NaN      NaN   \n",
       "3259  10865     NaN      NaN   \n",
       "3260  10868     NaN      NaN   \n",
       "3261  10874     NaN      NaN   \n",
       "3262  10875     NaN      NaN   \n",
       "\n",
       "                                                   text  \n",
       "0                    Just happened a terrible car crash  \n",
       "1     Heard about #earthquake is different cities, s...  \n",
       "2     there is a forest fire at spot pond, geese are...  \n",
       "3              Apocalypse lighting. #Spokane #wildfires  \n",
       "4         Typhoon Soudelor kills 28 in China and Taiwan  \n",
       "...                                                 ...  \n",
       "3258  EARTHQUAKE SAFETY LOS ANGELES ÛÒ SAFETY FASTE...  \n",
       "3259  Storm in RI worse than last hurricane. My city...  \n",
       "3260  Green Line derailment in Chicago http://t.co/U...  \n",
       "3261  MEG issues Hazardous Weather Outlook (HWO) htt...  \n",
       "3262  #CityofCalgary has activated its Municipal Eme...  \n",
       "\n",
       "[3263 rows x 4 columns]"
      ]
     },
     "execution_count": 36,
     "metadata": {},
     "output_type": "execute_result"
    }
   ],
   "source": [
    "Train = pd.read_csv('/Python MP/Dataset/train.csv')\n",
    "Test = pd.read_csv('/Python MP/Dataset/test.csv')\n",
    "Test"
   ]
  },
  {
   "cell_type": "code",
   "execution_count": 37,
   "id": "41a16536",
   "metadata": {},
   "outputs": [
    {
     "data": {
      "text/html": [
       "<div>\n",
       "<style scoped>\n",
       "    .dataframe tbody tr th:only-of-type {\n",
       "        vertical-align: middle;\n",
       "    }\n",
       "\n",
       "    .dataframe tbody tr th {\n",
       "        vertical-align: top;\n",
       "    }\n",
       "\n",
       "    .dataframe thead th {\n",
       "        text-align: right;\n",
       "    }\n",
       "</style>\n",
       "<table border=\"1\" class=\"dataframe\">\n",
       "  <thead>\n",
       "    <tr style=\"text-align: right;\">\n",
       "      <th></th>\n",
       "      <th>id</th>\n",
       "      <th>keyword</th>\n",
       "      <th>location</th>\n",
       "      <th>text</th>\n",
       "      <th>target</th>\n",
       "    </tr>\n",
       "  </thead>\n",
       "  <tbody>\n",
       "    <tr>\n",
       "      <th>0</th>\n",
       "      <td>1</td>\n",
       "      <td>NaN</td>\n",
       "      <td>NaN</td>\n",
       "      <td>Our Deeds are the Reason of this #earthquake M...</td>\n",
       "      <td>1</td>\n",
       "    </tr>\n",
       "    <tr>\n",
       "      <th>1</th>\n",
       "      <td>4</td>\n",
       "      <td>NaN</td>\n",
       "      <td>NaN</td>\n",
       "      <td>Forest fire near La Ronge Sask. Canada</td>\n",
       "      <td>1</td>\n",
       "    </tr>\n",
       "    <tr>\n",
       "      <th>2</th>\n",
       "      <td>5</td>\n",
       "      <td>NaN</td>\n",
       "      <td>NaN</td>\n",
       "      <td>All residents asked to 'shelter in place' are ...</td>\n",
       "      <td>1</td>\n",
       "    </tr>\n",
       "    <tr>\n",
       "      <th>3</th>\n",
       "      <td>6</td>\n",
       "      <td>NaN</td>\n",
       "      <td>NaN</td>\n",
       "      <td>13,000 people receive #wildfires evacuation or...</td>\n",
       "      <td>1</td>\n",
       "    </tr>\n",
       "    <tr>\n",
       "      <th>4</th>\n",
       "      <td>7</td>\n",
       "      <td>NaN</td>\n",
       "      <td>NaN</td>\n",
       "      <td>Just got sent this photo from Ruby #Alaska as ...</td>\n",
       "      <td>1</td>\n",
       "    </tr>\n",
       "    <tr>\n",
       "      <th>...</th>\n",
       "      <td>...</td>\n",
       "      <td>...</td>\n",
       "      <td>...</td>\n",
       "      <td>...</td>\n",
       "      <td>...</td>\n",
       "    </tr>\n",
       "    <tr>\n",
       "      <th>7608</th>\n",
       "      <td>10869</td>\n",
       "      <td>NaN</td>\n",
       "      <td>NaN</td>\n",
       "      <td>Two giant cranes holding a bridge collapse int...</td>\n",
       "      <td>1</td>\n",
       "    </tr>\n",
       "    <tr>\n",
       "      <th>7609</th>\n",
       "      <td>10870</td>\n",
       "      <td>NaN</td>\n",
       "      <td>NaN</td>\n",
       "      <td>@aria_ahrary @TheTawniest The out of control w...</td>\n",
       "      <td>1</td>\n",
       "    </tr>\n",
       "    <tr>\n",
       "      <th>7610</th>\n",
       "      <td>10871</td>\n",
       "      <td>NaN</td>\n",
       "      <td>NaN</td>\n",
       "      <td>M1.94 [01:04 UTC]?5km S of Volcano Hawaii. htt...</td>\n",
       "      <td>1</td>\n",
       "    </tr>\n",
       "    <tr>\n",
       "      <th>7611</th>\n",
       "      <td>10872</td>\n",
       "      <td>NaN</td>\n",
       "      <td>NaN</td>\n",
       "      <td>Police investigating after an e-bike collided ...</td>\n",
       "      <td>1</td>\n",
       "    </tr>\n",
       "    <tr>\n",
       "      <th>7612</th>\n",
       "      <td>10873</td>\n",
       "      <td>NaN</td>\n",
       "      <td>NaN</td>\n",
       "      <td>The Latest: More Homes Razed by Northern Calif...</td>\n",
       "      <td>1</td>\n",
       "    </tr>\n",
       "  </tbody>\n",
       "</table>\n",
       "<p>7613 rows × 5 columns</p>\n",
       "</div>"
      ],
      "text/plain": [
       "         id keyword location  \\\n",
       "0         1     NaN      NaN   \n",
       "1         4     NaN      NaN   \n",
       "2         5     NaN      NaN   \n",
       "3         6     NaN      NaN   \n",
       "4         7     NaN      NaN   \n",
       "...     ...     ...      ...   \n",
       "7608  10869     NaN      NaN   \n",
       "7609  10870     NaN      NaN   \n",
       "7610  10871     NaN      NaN   \n",
       "7611  10872     NaN      NaN   \n",
       "7612  10873     NaN      NaN   \n",
       "\n",
       "                                                   text  target  \n",
       "0     Our Deeds are the Reason of this #earthquake M...       1  \n",
       "1                Forest fire near La Ronge Sask. Canada       1  \n",
       "2     All residents asked to 'shelter in place' are ...       1  \n",
       "3     13,000 people receive #wildfires evacuation or...       1  \n",
       "4     Just got sent this photo from Ruby #Alaska as ...       1  \n",
       "...                                                 ...     ...  \n",
       "7608  Two giant cranes holding a bridge collapse int...       1  \n",
       "7609  @aria_ahrary @TheTawniest The out of control w...       1  \n",
       "7610  M1.94 [01:04 UTC]?5km S of Volcano Hawaii. htt...       1  \n",
       "7611  Police investigating after an e-bike collided ...       1  \n",
       "7612  The Latest: More Homes Razed by Northern Calif...       1  \n",
       "\n",
       "[7613 rows x 5 columns]"
      ]
     },
     "execution_count": 37,
     "metadata": {},
     "output_type": "execute_result"
    }
   ],
   "source": [
    "Train"
   ]
  },
  {
   "cell_type": "markdown",
   "id": "2daa31da",
   "metadata": {
    "papermill": {
     "duration": 0.021524,
     "end_time": "2022-09-03T06:46:12.822565",
     "exception": false,
     "start_time": "2022-09-03T06:46:12.801041",
     "status": "completed"
    },
    "tags": []
   },
   "source": [
    "<h1 style='; border:0; border-radius: 15px; text-shadow: 1px 1px black; font-weight: bold; color:black'><center>  Data Pre-processing ⌛</center></h1> <a id='preprocess'></a>"
   ]
  },
  {
   "cell_type": "markdown",
   "id": "81bb2869",
   "metadata": {
    "papermill": {
     "duration": 0.022031,
     "end_time": "2022-09-03T06:46:12.910298",
     "exception": false,
     "start_time": "2022-09-03T06:46:12.888267",
     "status": "completed"
    },
    "tags": []
   },
   "source": [
    "<h2 align=\"center\" ><a id='re'><b>Removing unnecessary characters and special symbols<b></a></h2>"
   ]
  },
  {
   "cell_type": "code",
   "execution_count": 38,
   "id": "42915469",
   "metadata": {
    "execution": {
     "iopub.execute_input": "2022-09-03T06:46:12.956886Z",
     "iopub.status.busy": "2022-09-03T06:46:12.956294Z",
     "iopub.status.idle": "2022-09-03T06:46:13.111259Z",
     "shell.execute_reply": "2022-09-03T06:46:13.110340Z"
    },
    "papermill": {
     "duration": 0.180364,
     "end_time": "2022-09-03T06:46:13.112986",
     "exception": false,
     "start_time": "2022-09-03T06:46:12.932622",
     "status": "completed"
    },
    "tags": []
   },
   "outputs": [
    {
     "data": {
      "text/html": [
       "<div>\n",
       "<style scoped>\n",
       "    .dataframe tbody tr th:only-of-type {\n",
       "        vertical-align: middle;\n",
       "    }\n",
       "\n",
       "    .dataframe tbody tr th {\n",
       "        vertical-align: top;\n",
       "    }\n",
       "\n",
       "    .dataframe thead th {\n",
       "        text-align: right;\n",
       "    }\n",
       "</style>\n",
       "<table border=\"1\" class=\"dataframe\">\n",
       "  <thead>\n",
       "    <tr style=\"text-align: right;\">\n",
       "      <th></th>\n",
       "      <th>id</th>\n",
       "      <th>keyword</th>\n",
       "      <th>location</th>\n",
       "      <th>text</th>\n",
       "      <th>target</th>\n",
       "    </tr>\n",
       "  </thead>\n",
       "  <tbody>\n",
       "    <tr>\n",
       "      <th>0</th>\n",
       "      <td>1</td>\n",
       "      <td>NaN</td>\n",
       "      <td>NaN</td>\n",
       "      <td>our deeds are the reason of this earthquake ma...</td>\n",
       "      <td>1</td>\n",
       "    </tr>\n",
       "    <tr>\n",
       "      <th>1</th>\n",
       "      <td>4</td>\n",
       "      <td>NaN</td>\n",
       "      <td>NaN</td>\n",
       "      <td>forest fire near la ronge sask canada</td>\n",
       "      <td>1</td>\n",
       "    </tr>\n",
       "    <tr>\n",
       "      <th>2</th>\n",
       "      <td>5</td>\n",
       "      <td>NaN</td>\n",
       "      <td>NaN</td>\n",
       "      <td>all residents asked to shelter in place are be...</td>\n",
       "      <td>1</td>\n",
       "    </tr>\n",
       "    <tr>\n",
       "      <th>3</th>\n",
       "      <td>6</td>\n",
       "      <td>NaN</td>\n",
       "      <td>NaN</td>\n",
       "      <td>people receive wildfires evacuation orders in...</td>\n",
       "      <td>1</td>\n",
       "    </tr>\n",
       "    <tr>\n",
       "      <th>4</th>\n",
       "      <td>7</td>\n",
       "      <td>NaN</td>\n",
       "      <td>NaN</td>\n",
       "      <td>just got sent this photo from ruby alaska as s...</td>\n",
       "      <td>1</td>\n",
       "    </tr>\n",
       "    <tr>\n",
       "      <th>...</th>\n",
       "      <td>...</td>\n",
       "      <td>...</td>\n",
       "      <td>...</td>\n",
       "      <td>...</td>\n",
       "      <td>...</td>\n",
       "    </tr>\n",
       "    <tr>\n",
       "      <th>7608</th>\n",
       "      <td>10869</td>\n",
       "      <td>NaN</td>\n",
       "      <td>NaN</td>\n",
       "      <td>two giant cranes holding a bridge collapse int...</td>\n",
       "      <td>1</td>\n",
       "    </tr>\n",
       "    <tr>\n",
       "      <th>7609</th>\n",
       "      <td>10870</td>\n",
       "      <td>NaN</td>\n",
       "      <td>NaN</td>\n",
       "      <td>the out of control wild fires in california ...</td>\n",
       "      <td>1</td>\n",
       "    </tr>\n",
       "    <tr>\n",
       "      <th>7610</th>\n",
       "      <td>10871</td>\n",
       "      <td>NaN</td>\n",
       "      <td>NaN</td>\n",
       "      <td>m km s of volcano hawaii httptcozdtoydebj</td>\n",
       "      <td>1</td>\n",
       "    </tr>\n",
       "    <tr>\n",
       "      <th>7611</th>\n",
       "      <td>10872</td>\n",
       "      <td>NaN</td>\n",
       "      <td>NaN</td>\n",
       "      <td>police investigating after an ebike collided w...</td>\n",
       "      <td>1</td>\n",
       "    </tr>\n",
       "    <tr>\n",
       "      <th>7612</th>\n",
       "      <td>10873</td>\n",
       "      <td>NaN</td>\n",
       "      <td>NaN</td>\n",
       "      <td>the latest more homes razed by northern califo...</td>\n",
       "      <td>1</td>\n",
       "    </tr>\n",
       "  </tbody>\n",
       "</table>\n",
       "<p>7613 rows × 5 columns</p>\n",
       "</div>"
      ],
      "text/plain": [
       "         id keyword location  \\\n",
       "0         1     NaN      NaN   \n",
       "1         4     NaN      NaN   \n",
       "2         5     NaN      NaN   \n",
       "3         6     NaN      NaN   \n",
       "4         7     NaN      NaN   \n",
       "...     ...     ...      ...   \n",
       "7608  10869     NaN      NaN   \n",
       "7609  10870     NaN      NaN   \n",
       "7610  10871     NaN      NaN   \n",
       "7611  10872     NaN      NaN   \n",
       "7612  10873     NaN      NaN   \n",
       "\n",
       "                                                   text  target  \n",
       "0     our deeds are the reason of this earthquake ma...       1  \n",
       "1                 forest fire near la ronge sask canada       1  \n",
       "2     all residents asked to shelter in place are be...       1  \n",
       "3      people receive wildfires evacuation orders in...       1  \n",
       "4     just got sent this photo from ruby alaska as s...       1  \n",
       "...                                                 ...     ...  \n",
       "7608  two giant cranes holding a bridge collapse int...       1  \n",
       "7609    the out of control wild fires in california ...       1  \n",
       "7610          m km s of volcano hawaii httptcozdtoydebj       1  \n",
       "7611  police investigating after an ebike collided w...       1  \n",
       "7612  the latest more homes razed by northern califo...       1  \n",
       "\n",
       "[7613 rows x 5 columns]"
      ]
     },
     "execution_count": 38,
     "metadata": {},
     "output_type": "execute_result"
    }
   ],
   "source": [
    "def cleanText(text):\n",
    "    whitespace = re.compile(r\"\\s+\")\n",
    "    web_address = re.compile(r\"(?i)http(s):\\/\\/[a-z0-9.~_\\-\\/]+\")\n",
    "    user = re.compile(r\"(?i)@[a-z0-9_]+\")\n",
    "    text = whitespace.sub(' ', text)\n",
    "    text = web_address.sub('', text)\n",
    "    text = user.sub('', text)\n",
    "    text = re.sub(r\"\\[[^()]*\\]\", \"\", text)\n",
    "    text = re.sub(\"\\d+\", \"\", text)\n",
    "    text = re.sub(r'[^\\w\\s]','',text)\n",
    "    text = re.sub(r\"(?:@\\S*|#\\S*|http(?=.*://)\\S*)\", \"\", text)\n",
    "    return text.lower()\n",
    "\n",
    "Train.text = [cleanText(item) for item in Train.text]\n",
    "Train"
   ]
  },
  {
   "cell_type": "code",
   "execution_count": 39,
   "id": "b032e28f",
   "metadata": {
    "execution": {
     "iopub.execute_input": "2022-09-03T06:46:23.229902Z",
     "iopub.status.busy": "2022-09-03T06:46:23.229543Z",
     "iopub.status.idle": "2022-09-03T06:46:23.305119Z",
     "shell.execute_reply": "2022-09-03T06:46:23.304173Z"
    },
    "papermill": {
     "duration": 0.101351,
     "end_time": "2022-09-03T06:46:23.306978",
     "exception": false,
     "start_time": "2022-09-03T06:46:23.205627",
     "status": "completed"
    },
    "tags": []
   },
   "outputs": [
    {
     "data": {
      "text/plain": [
       "'correct me plese'"
      ]
     },
     "execution_count": 39,
     "metadata": {},
     "output_type": "execute_result"
    }
   ],
   "source": [
    "from spellchecker import SpellChecker\n",
    "\n",
    "spell = SpellChecker()\n",
    "def correct_spellings(text):\n",
    "    corrected_text = []\n",
    "    misspelled_words = spell.unknown(text.split())\n",
    "    for word in text.split():\n",
    "        if word in misspelled_words:\n",
    "            corrected_text.append(spell.correction(word))\n",
    "        else:\n",
    "            corrected_text.append(word)\n",
    "    return \" \".join(corrected_text)\n",
    "        \n",
    "text = \"corect me plese\"\n",
    "correct_spellings(text)"
   ]
  },
  {
   "cell_type": "markdown",
   "id": "c2646d5f",
   "metadata": {
    "papermill": {
     "duration": 0.022248,
     "end_time": "2022-09-03T06:46:23.351737",
     "exception": false,
     "start_time": "2022-09-03T06:46:23.329489",
     "status": "completed"
    },
    "tags": []
   },
   "source": [
    "<h2 align=\"center\" ><a id='fit'><b>Fitting tokenizer on texts<b></a></h2>"
   ]
  },
  {
   "cell_type": "code",
   "execution_count": 40,
   "id": "5f6c8b0d",
   "metadata": {
    "execution": {
     "iopub.execute_input": "2022-09-03T06:46:23.397925Z",
     "iopub.status.busy": "2022-09-03T06:46:23.397609Z",
     "iopub.status.idle": "2022-09-03T06:46:24.560362Z",
     "shell.execute_reply": "2022-09-03T06:46:24.559316Z"
    },
    "papermill": {
     "duration": 1.18862,
     "end_time": "2022-09-03T06:46:24.562936",
     "exception": false,
     "start_time": "2022-09-03T06:46:23.374316",
     "status": "completed"
    },
    "scrolled": true,
    "tags": []
   },
   "outputs": [
    {
     "data": {
      "text/plain": [
       "19198"
      ]
     },
     "execution_count": 40,
     "metadata": {},
     "output_type": "execute_result"
    }
   ],
   "source": [
    "tokenizer = tf.keras.preprocessing.text.Tokenizer()\n",
    "tokenizer.oov_token = '<oovToken>'\n",
    "tokenizer.fit_on_texts(Train.text)\n",
    "vocab = tokenizer.word_index\n",
    "vocabCount = len(vocab)+1\n",
    "\n",
    "vocabCount"
   ]
  },
  {
   "cell_type": "code",
   "execution_count": 41,
   "id": "fe7dfd6e",
   "metadata": {
    "execution": {
     "iopub.execute_input": "2022-09-03T06:46:24.611131Z",
     "iopub.status.busy": "2022-09-03T06:46:24.610152Z",
     "iopub.status.idle": "2022-09-03T06:46:24.955094Z",
     "shell.execute_reply": "2022-09-03T06:46:24.954072Z"
    },
    "papermill": {
     "duration": 0.371144,
     "end_time": "2022-09-03T06:46:24.957395",
     "exception": false,
     "start_time": "2022-09-03T06:46:24.586251",
     "status": "completed"
    },
    "tags": []
   },
   "outputs": [
    {
     "data": {
      "text/plain": [
       "((7613, 31), (7613,))"
      ]
     },
     "execution_count": 41,
     "metadata": {},
     "output_type": "execute_result"
    }
   ],
   "source": [
    "x_Train = tf.keras.preprocessing.sequence.pad_sequences(tokenizer.texts_to_sequences(Train.text.to_numpy()), padding='pre')\n",
    "y_Train = Train.target.to_numpy()\n",
    "\n",
    "x_Train.shape, y_Train.shape"
   ]
  },
  {
   "cell_type": "markdown",
   "id": "a9b09f11",
   "metadata": {
    "papermill": {
     "duration": 0.023128,
     "end_time": "2022-09-03T06:46:25.003328",
     "exception": false,
     "start_time": "2022-09-03T06:46:24.980200",
     "status": "completed"
    },
    "tags": []
   },
   "source": [
    "<h2 style='; border:0; border-radius: 15px; text-shadow: 1px 1px black; font-weight: bold; color:black'><center> Model Creation and Evalutation </center></h2><a id=\"model\"></a>"
   ]
  },
  {
   "cell_type": "markdown",
   "id": "a2910343",
   "metadata": {
    "papermill": {
     "duration": 0.021993,
     "end_time": "2022-09-03T06:46:25.094295",
     "exception": false,
     "start_time": "2022-09-03T06:46:25.072302",
     "status": "completed"
    },
    "tags": []
   },
   "source": [
    "## **Sequential model**\n",
    "\n",
    "#### A Sequential model is appropriate for a plain stack of layers where each layer has exactly one input tensor and one output tensor.\n",
    "\n",
    "The Embedding layer takes the integer-encoded vocabulary and looks up the embedding vector for each word-index. \n",
    "\n",
    "Global Average Pooling is a pooling operation designed to replace fully connected layers in classical CNNs. The idea is to generate one feature map for each corresponding category of the classification task in the last mlpconv layer. Instead of adding fully connected layers on top of the feature maps, we take the average of each feature map.\n",
    "\n",
    "A dense layer is a layer that is deeply connected with its preceding layer which means the neurons of the layer are connected to every neuron of its preceding layer. This layer is the most commonly used layer in artificial neural network networks."
   ]
  },
  {
   "cell_type": "code",
   "execution_count": 42,
   "id": "37a71b22",
   "metadata": {
    "execution": {
     "iopub.execute_input": "2022-09-03T06:46:25.142300Z",
     "iopub.status.busy": "2022-09-03T06:46:25.141986Z",
     "iopub.status.idle": "2022-09-03T06:46:25.301428Z",
     "shell.execute_reply": "2022-09-03T06:46:25.299846Z"
    },
    "papermill": {
     "duration": 0.186928,
     "end_time": "2022-09-03T06:46:25.303724",
     "exception": false,
     "start_time": "2022-09-03T06:46:25.116796",
     "status": "completed"
    },
    "scrolled": true,
    "tags": []
   },
   "outputs": [
    {
     "name": "stdout",
     "output_type": "stream",
     "text": [
      "Model: \"sequential_2\"\n",
      "_________________________________________________________________\n",
      " Layer (type)                Output Shape              Param #   \n",
      "=================================================================\n",
      " embedding_2 (Embedding)     (None, 31, 64)            1228736   \n",
      "                                                                 \n",
      " global_average_pooling1d_2   (None, 64)               0         \n",
      " (GlobalAveragePooling1D)                                        \n",
      "                                                                 \n",
      " dense_6 (Dense)             (None, 64)                4160      \n",
      "                                                                 \n",
      " dense_7 (Dense)             (None, 32)                2080      \n",
      "                                                                 \n",
      " dense_8 (Dense)             (None, 1)                 33        \n",
      "                                                                 \n",
      "=================================================================\n",
      "Total params: 1,235,009\n",
      "Trainable params: 1,235,009\n",
      "Non-trainable params: 0\n",
      "_________________________________________________________________\n"
     ]
    }
   ],
   "source": [
    "from tensorflow.keras import regularizers\n",
    "\n",
    "model = tf.keras.Sequential()\n",
    "model.add(tf.keras.layers.Embedding(input_dim=vocabCount+1, output_dim=64, input_length=31))\n",
    "model.add(tf.keras.layers.GlobalAveragePooling1D())\n",
    "model.add(tf.keras.layers.Dense(64, activation='relu', kernel_regularizer=regularizers.l2(0.01)))\n",
    "model.add(tf.keras.layers.Dense(32, activation='relu', kernel_regularizer=regularizers.l2(0.01)))\n",
    "model.add(tf.keras.layers.Dense(1, activation='sigmoid'))\n",
    "\n",
    "model.compile(loss='binary_crossentropy', optimizer='adam', metrics=['accuracy'])\n",
    "\n",
    "model.summary()\n"
   ]
  },
  {
   "cell_type": "code",
   "execution_count": 43,
   "id": "48519283",
   "metadata": {
    "execution": {
     "iopub.execute_input": "2022-09-03T06:46:26.569589Z",
     "iopub.status.busy": "2022-09-03T06:46:26.569276Z",
     "iopub.status.idle": "2022-09-03T06:46:47.386342Z",
     "shell.execute_reply": "2022-09-03T06:46:47.385525Z"
    },
    "papermill": {
     "duration": 20.84297,
     "end_time": "2022-09-03T06:46:47.388115",
     "exception": false,
     "start_time": "2022-09-03T06:46:26.545145",
     "status": "completed"
    },
    "scrolled": false,
    "tags": []
   },
   "outputs": [
    {
     "name": "stdout",
     "output_type": "stream",
     "text": [
      "Epoch 1/10\n",
      "238/238 [==============================] - 2s 7ms/step - loss: 0.9804 - accuracy: 0.5705\n",
      "Epoch 2/10\n",
      "238/238 [==============================] - 2s 6ms/step - loss: 0.6679 - accuracy: 0.6154\n",
      "Epoch 3/10\n",
      "238/238 [==============================] - 1s 6ms/step - loss: 0.5076 - accuracy: 0.8365\n",
      "Epoch 4/10\n",
      "238/238 [==============================] - 1s 6ms/step - loss: 0.4023 - accuracy: 0.8816\n",
      "Epoch 5/10\n",
      "238/238 [==============================] - 1s 6ms/step - loss: 0.3386 - accuracy: 0.9113\n",
      "Epoch 6/10\n",
      "238/238 [==============================] - 1s 6ms/step - loss: 0.2941 - accuracy: 0.9320\n",
      "Epoch 7/10\n",
      "238/238 [==============================] - 1s 6ms/step - loss: 0.2593 - accuracy: 0.9464\n",
      "Epoch 8/10\n",
      "238/238 [==============================] - 1s 6ms/step - loss: 0.2325 - accuracy: 0.9569\n",
      "Epoch 9/10\n",
      "238/238 [==============================] - 1s 6ms/step - loss: 0.2109 - accuracy: 0.9647\n",
      "Epoch 10/10\n",
      "238/238 [==============================] - 1s 6ms/step - loss: 0.1937 - accuracy: 0.9677\n"
     ]
    },
    {
     "data": {
      "text/plain": [
       "<keras.callbacks.History at 0x26dbb603e50>"
      ]
     },
     "execution_count": 43,
     "metadata": {},
     "output_type": "execute_result"
    }
   ],
   "source": [
    "model.fit(x_Train, y_Train, epochs=10, shuffle=True)"
   ]
  },
  {
   "cell_type": "code",
   "execution_count": 44,
   "id": "5d072baa",
   "metadata": {},
   "outputs": [],
   "source": [
    "model.save('Tweet.h5')"
   ]
  },
  {
   "cell_type": "code",
   "execution_count": 45,
   "id": "1fb4ee43",
   "metadata": {},
   "outputs": [],
   "source": [
    "model = tf.keras.models.load_model('\\Python MP\\Tweet.h5')"
   ]
  },
  {
   "cell_type": "code",
   "execution_count": 46,
   "id": "0e03efe7",
   "metadata": {
    "execution": {
     "iopub.execute_input": "2022-09-03T06:46:47.473648Z",
     "iopub.status.busy": "2022-09-03T06:46:47.473353Z",
     "iopub.status.idle": "2022-09-03T06:46:47.482704Z",
     "shell.execute_reply": "2022-09-03T06:46:47.481854Z"
    },
    "papermill": {
     "duration": 0.054529,
     "end_time": "2022-09-03T06:46:47.484391",
     "exception": false,
     "start_time": "2022-09-03T06:46:47.429862",
     "status": "completed"
    },
    "scrolled": false,
    "tags": []
   },
   "outputs": [
    {
     "data": {
      "text/html": [
       "<div>\n",
       "<style scoped>\n",
       "    .dataframe tbody tr th:only-of-type {\n",
       "        vertical-align: middle;\n",
       "    }\n",
       "\n",
       "    .dataframe tbody tr th {\n",
       "        vertical-align: top;\n",
       "    }\n",
       "\n",
       "    .dataframe thead th {\n",
       "        text-align: right;\n",
       "    }\n",
       "</style>\n",
       "<table border=\"1\" class=\"dataframe\">\n",
       "  <thead>\n",
       "    <tr style=\"text-align: right;\">\n",
       "      <th></th>\n",
       "      <th>id</th>\n",
       "      <th>keyword</th>\n",
       "      <th>location</th>\n",
       "      <th>text</th>\n",
       "    </tr>\n",
       "  </thead>\n",
       "  <tbody>\n",
       "    <tr>\n",
       "      <th>0</th>\n",
       "      <td>0</td>\n",
       "      <td>NaN</td>\n",
       "      <td>NaN</td>\n",
       "      <td>Just happened a terrible car crash</td>\n",
       "    </tr>\n",
       "    <tr>\n",
       "      <th>1</th>\n",
       "      <td>2</td>\n",
       "      <td>NaN</td>\n",
       "      <td>NaN</td>\n",
       "      <td>Heard about #earthquake is different cities, s...</td>\n",
       "    </tr>\n",
       "    <tr>\n",
       "      <th>2</th>\n",
       "      <td>3</td>\n",
       "      <td>NaN</td>\n",
       "      <td>NaN</td>\n",
       "      <td>there is a forest fire at spot pond, geese are...</td>\n",
       "    </tr>\n",
       "    <tr>\n",
       "      <th>3</th>\n",
       "      <td>9</td>\n",
       "      <td>NaN</td>\n",
       "      <td>NaN</td>\n",
       "      <td>Apocalypse lighting. #Spokane #wildfires</td>\n",
       "    </tr>\n",
       "    <tr>\n",
       "      <th>4</th>\n",
       "      <td>11</td>\n",
       "      <td>NaN</td>\n",
       "      <td>NaN</td>\n",
       "      <td>Typhoon Soudelor kills 28 in China and Taiwan</td>\n",
       "    </tr>\n",
       "  </tbody>\n",
       "</table>\n",
       "</div>"
      ],
      "text/plain": [
       "   id keyword location                                               text\n",
       "0   0     NaN      NaN                 Just happened a terrible car crash\n",
       "1   2     NaN      NaN  Heard about #earthquake is different cities, s...\n",
       "2   3     NaN      NaN  there is a forest fire at spot pond, geese are...\n",
       "3   9     NaN      NaN           Apocalypse lighting. #Spokane #wildfires\n",
       "4  11     NaN      NaN      Typhoon Soudelor kills 28 in China and Taiwan"
      ]
     },
     "execution_count": 46,
     "metadata": {},
     "output_type": "execute_result"
    }
   ],
   "source": [
    "Test.head()"
   ]
  },
  {
   "cell_type": "code",
   "execution_count": 47,
   "id": "f8b0245c",
   "metadata": {
    "execution": {
     "iopub.execute_input": "2022-09-03T06:46:47.745925Z",
     "iopub.status.busy": "2022-09-03T06:46:47.745577Z",
     "iopub.status.idle": "2022-09-03T06:46:47.755687Z",
     "shell.execute_reply": "2022-09-03T06:46:47.754848Z"
    },
    "papermill": {
     "duration": 0.056469,
     "end_time": "2022-09-03T06:46:47.757308",
     "exception": false,
     "start_time": "2022-09-03T06:46:47.700839",
     "status": "completed"
    },
    "scrolled": true,
    "tags": []
   },
   "outputs": [
    {
     "data": {
      "text/html": [
       "<div>\n",
       "<style scoped>\n",
       "    .dataframe tbody tr th:only-of-type {\n",
       "        vertical-align: middle;\n",
       "    }\n",
       "\n",
       "    .dataframe tbody tr th {\n",
       "        vertical-align: top;\n",
       "    }\n",
       "\n",
       "    .dataframe thead th {\n",
       "        text-align: right;\n",
       "    }\n",
       "</style>\n",
       "<table border=\"1\" class=\"dataframe\">\n",
       "  <thead>\n",
       "    <tr style=\"text-align: right;\">\n",
       "      <th></th>\n",
       "      <th>text</th>\n",
       "    </tr>\n",
       "  </thead>\n",
       "  <tbody>\n",
       "    <tr>\n",
       "      <th>0</th>\n",
       "      <td>Just happened a terrible car crash</td>\n",
       "    </tr>\n",
       "    <tr>\n",
       "      <th>1</th>\n",
       "      <td>Heard about #earthquake is different cities, s...</td>\n",
       "    </tr>\n",
       "    <tr>\n",
       "      <th>2</th>\n",
       "      <td>there is a forest fire at spot pond, geese are...</td>\n",
       "    </tr>\n",
       "    <tr>\n",
       "      <th>3</th>\n",
       "      <td>Apocalypse lighting. #Spokane #wildfires</td>\n",
       "    </tr>\n",
       "    <tr>\n",
       "      <th>4</th>\n",
       "      <td>Typhoon Soudelor kills 28 in China and Taiwan</td>\n",
       "    </tr>\n",
       "  </tbody>\n",
       "</table>\n",
       "</div>"
      ],
      "text/plain": [
       "                                                text\n",
       "0                 Just happened a terrible car crash\n",
       "1  Heard about #earthquake is different cities, s...\n",
       "2  there is a forest fire at spot pond, geese are...\n",
       "3           Apocalypse lighting. #Spokane #wildfires\n",
       "4      Typhoon Soudelor kills 28 in China and Taiwan"
      ]
     },
     "execution_count": 47,
     "metadata": {},
     "output_type": "execute_result"
    }
   ],
   "source": [
    "idCol = Test['id'].to_numpy()\n",
    "Test = Test.drop(columns=['keyword', 'location', 'id'])\n",
    "Test.head()"
   ]
  },
  {
   "cell_type": "code",
   "execution_count": 48,
   "id": "e9e95521",
   "metadata": {
    "execution": {
     "iopub.execute_input": "2022-09-03T06:46:47.845845Z",
     "iopub.status.busy": "2022-09-03T06:46:47.845499Z",
     "iopub.status.idle": "2022-09-03T06:46:47.914558Z",
     "shell.execute_reply": "2022-09-03T06:46:47.914023Z"
    },
    "papermill": {
     "duration": 0.115046,
     "end_time": "2022-09-03T06:46:47.916081",
     "exception": false,
     "start_time": "2022-09-03T06:46:47.801035",
     "status": "completed"
    },
    "tags": []
   },
   "outputs": [
    {
     "data": {
      "text/html": [
       "<div>\n",
       "<style scoped>\n",
       "    .dataframe tbody tr th:only-of-type {\n",
       "        vertical-align: middle;\n",
       "    }\n",
       "\n",
       "    .dataframe tbody tr th {\n",
       "        vertical-align: top;\n",
       "    }\n",
       "\n",
       "    .dataframe thead th {\n",
       "        text-align: right;\n",
       "    }\n",
       "</style>\n",
       "<table border=\"1\" class=\"dataframe\">\n",
       "  <thead>\n",
       "    <tr style=\"text-align: right;\">\n",
       "      <th></th>\n",
       "      <th>text</th>\n",
       "    </tr>\n",
       "  </thead>\n",
       "  <tbody>\n",
       "    <tr>\n",
       "      <th>0</th>\n",
       "      <td>just happened a terrible car crash</td>\n",
       "    </tr>\n",
       "    <tr>\n",
       "      <th>1</th>\n",
       "      <td>heard about earthquake is different cities sta...</td>\n",
       "    </tr>\n",
       "    <tr>\n",
       "      <th>2</th>\n",
       "      <td>there is a forest fire at spot pond geese are ...</td>\n",
       "    </tr>\n",
       "    <tr>\n",
       "      <th>3</th>\n",
       "      <td>apocalypse lighting spokane wildfires</td>\n",
       "    </tr>\n",
       "    <tr>\n",
       "      <th>4</th>\n",
       "      <td>typhoon soudelor kills  in china and taiwan</td>\n",
       "    </tr>\n",
       "    <tr>\n",
       "      <th>...</th>\n",
       "      <td>...</td>\n",
       "    </tr>\n",
       "    <tr>\n",
       "      <th>3258</th>\n",
       "      <td>earthquake safety los angeles ûò safety fasten...</td>\n",
       "    </tr>\n",
       "    <tr>\n",
       "      <th>3259</th>\n",
       "      <td>storm in ri worse than last hurricane my citya...</td>\n",
       "    </tr>\n",
       "    <tr>\n",
       "      <th>3260</th>\n",
       "      <td>green line derailment in chicago httptcoutbxlc...</td>\n",
       "    </tr>\n",
       "    <tr>\n",
       "      <th>3261</th>\n",
       "      <td>meg issues hazardous weather outlook hwo httpt...</td>\n",
       "    </tr>\n",
       "    <tr>\n",
       "      <th>3262</th>\n",
       "      <td>cityofcalgary has activated its municipal emer...</td>\n",
       "    </tr>\n",
       "  </tbody>\n",
       "</table>\n",
       "<p>3263 rows × 1 columns</p>\n",
       "</div>"
      ],
      "text/plain": [
       "                                                   text\n",
       "0                    just happened a terrible car crash\n",
       "1     heard about earthquake is different cities sta...\n",
       "2     there is a forest fire at spot pond geese are ...\n",
       "3                 apocalypse lighting spokane wildfires\n",
       "4           typhoon soudelor kills  in china and taiwan\n",
       "...                                                 ...\n",
       "3258  earthquake safety los angeles ûò safety fasten...\n",
       "3259  storm in ri worse than last hurricane my citya...\n",
       "3260  green line derailment in chicago httptcoutbxlc...\n",
       "3261  meg issues hazardous weather outlook hwo httpt...\n",
       "3262  cityofcalgary has activated its municipal emer...\n",
       "\n",
       "[3263 rows x 1 columns]"
      ]
     },
     "execution_count": 48,
     "metadata": {},
     "output_type": "execute_result"
    }
   ],
   "source": [
    "Test.text = [cleanText(item) for item in Test.text]\n",
    "Test"
   ]
  },
  {
   "cell_type": "code",
   "execution_count": 49,
   "id": "52250cba",
   "metadata": {
    "execution": {
     "iopub.execute_input": "2022-09-03T06:46:48.003494Z",
     "iopub.status.busy": "2022-09-03T06:46:48.002559Z",
     "iopub.status.idle": "2022-09-03T06:46:48.067476Z",
     "shell.execute_reply": "2022-09-03T06:46:48.066239Z"
    },
    "papermill": {
     "duration": 0.110609,
     "end_time": "2022-09-03T06:46:48.069390",
     "exception": false,
     "start_time": "2022-09-03T06:46:47.958781",
     "status": "completed"
    },
    "tags": []
   },
   "outputs": [
    {
     "data": {
      "text/plain": [
       "(3263, 31)"
      ]
     },
     "execution_count": 49,
     "metadata": {},
     "output_type": "execute_result"
    }
   ],
   "source": [
    "x_Test = tf.keras.preprocessing.sequence.pad_sequences(tokenizer.texts_to_sequences(Test.text.to_numpy()), padding='pre', maxlen=31)\n",
    "\n",
    "x_Test.shape\n"
   ]
  },
  {
   "cell_type": "code",
   "execution_count": 50,
   "id": "7424455f",
   "metadata": {
    "execution": {
     "iopub.execute_input": "2022-09-03T06:46:48.155669Z",
     "iopub.status.busy": "2022-09-03T06:46:48.155385Z",
     "iopub.status.idle": "2022-09-03T06:46:48.404587Z",
     "shell.execute_reply": "2022-09-03T06:46:48.403857Z"
    },
    "papermill": {
     "duration": 0.294537,
     "end_time": "2022-09-03T06:46:48.406500",
     "exception": false,
     "start_time": "2022-09-03T06:46:48.111963",
     "status": "completed"
    },
    "tags": []
   },
   "outputs": [
    {
     "name": "stdout",
     "output_type": "stream",
     "text": [
      "102/102 [==============================] - 0s 2ms/step\n"
     ]
    },
    {
     "data": {
      "text/plain": [
       "array([[0.7242331 ],\n",
       "       [0.6403248 ],\n",
       "       [0.97858685],\n",
       "       ...,\n",
       "       [0.9133464 ],\n",
       "       [0.9260356 ],\n",
       "       [0.8179071 ]], dtype=float32)"
      ]
     },
     "execution_count": 50,
     "metadata": {},
     "output_type": "execute_result"
    }
   ],
   "source": [
    "preds = model.predict(x_Test)\n",
    "preds"
   ]
  },
  {
   "cell_type": "code",
   "execution_count": 51,
   "id": "bee1c7b8",
   "metadata": {
    "execution": {
     "iopub.execute_input": "2022-09-03T06:46:48.496258Z",
     "iopub.status.busy": "2022-09-03T06:46:48.495898Z",
     "iopub.status.idle": "2022-09-03T06:46:48.514347Z",
     "shell.execute_reply": "2022-09-03T06:46:48.513755Z"
    },
    "papermill": {
     "duration": 0.066027,
     "end_time": "2022-09-03T06:46:48.515926",
     "exception": false,
     "start_time": "2022-09-03T06:46:48.449899",
     "status": "completed"
    },
    "tags": []
   },
   "outputs": [
    {
     "data": {
      "text/html": [
       "<div>\n",
       "<style scoped>\n",
       "    .dataframe tbody tr th:only-of-type {\n",
       "        vertical-align: middle;\n",
       "    }\n",
       "\n",
       "    .dataframe tbody tr th {\n",
       "        vertical-align: top;\n",
       "    }\n",
       "\n",
       "    .dataframe thead th {\n",
       "        text-align: right;\n",
       "    }\n",
       "</style>\n",
       "<table border=\"1\" class=\"dataframe\">\n",
       "  <thead>\n",
       "    <tr style=\"text-align: right;\">\n",
       "      <th></th>\n",
       "      <th>target</th>\n",
       "    </tr>\n",
       "    <tr>\n",
       "      <th>id</th>\n",
       "      <th></th>\n",
       "    </tr>\n",
       "  </thead>\n",
       "  <tbody>\n",
       "    <tr>\n",
       "      <th>0</th>\n",
       "      <td>0</td>\n",
       "    </tr>\n",
       "    <tr>\n",
       "      <th>2</th>\n",
       "      <td>0</td>\n",
       "    </tr>\n",
       "    <tr>\n",
       "      <th>3</th>\n",
       "      <td>1</td>\n",
       "    </tr>\n",
       "    <tr>\n",
       "      <th>9</th>\n",
       "      <td>0</td>\n",
       "    </tr>\n",
       "    <tr>\n",
       "      <th>11</th>\n",
       "      <td>1</td>\n",
       "    </tr>\n",
       "    <tr>\n",
       "      <th>...</th>\n",
       "      <td>...</td>\n",
       "    </tr>\n",
       "    <tr>\n",
       "      <th>10861</th>\n",
       "      <td>0</td>\n",
       "    </tr>\n",
       "    <tr>\n",
       "      <th>10865</th>\n",
       "      <td>1</td>\n",
       "    </tr>\n",
       "    <tr>\n",
       "      <th>10868</th>\n",
       "      <td>1</td>\n",
       "    </tr>\n",
       "    <tr>\n",
       "      <th>10874</th>\n",
       "      <td>1</td>\n",
       "    </tr>\n",
       "    <tr>\n",
       "      <th>10875</th>\n",
       "      <td>0</td>\n",
       "    </tr>\n",
       "  </tbody>\n",
       "</table>\n",
       "<p>3263 rows × 1 columns</p>\n",
       "</div>"
      ],
      "text/plain": [
       "       target\n",
       "id           \n",
       "0           0\n",
       "2           0\n",
       "3           1\n",
       "9           0\n",
       "11          1\n",
       "...       ...\n",
       "10861       0\n",
       "10865       1\n",
       "10868       1\n",
       "10874       1\n",
       "10875       0\n",
       "\n",
       "[3263 rows x 1 columns]"
      ]
     },
     "execution_count": 51,
     "metadata": {},
     "output_type": "execute_result"
    }
   ],
   "source": [
    "preds = preds.reshape(len(preds))\n",
    "for i in range(len(preds)):\n",
    "    if preds[i]>0.9:\n",
    "        preds[i] = 1\n",
    "    else:\n",
    "        preds[i] = 0\n",
    "\n",
    "submission = pd.DataFrame({'id': idCol, 'target': preds})\n",
    "submission.target = submission.target.astype(int)\n",
    "submission.set_index('id')"
   ]
  },
  {
   "cell_type": "code",
   "execution_count": null,
   "id": "d81e0522",
   "metadata": {},
   "outputs": [
    {
     "name": "stdout",
     "output_type": "stream",
     "text": [
      "1/1 [==============================] - 0s 19ms/step\n",
      "1/1 [==============================] - 0s 18ms/step\n",
      "1/1 [==============================] - 0s 18ms/step\n"
     ]
    }
   ],
   "source": [
    "#GUI\n",
    "\n",
    "import tkinter as tk\n",
    "\n",
    "def predict_tweet():\n",
    "    user_input = tweet_input.get()\n",
    "    cleaned_input = cleanText(user_input)\n",
    "    tokenized_input = tokenizer.texts_to_sequences([cleaned_input])\n",
    "    padded_input = tf.keras.preprocessing.sequence.pad_sequences(tokenized_input, padding='pre', maxlen=31)\n",
    "    prediction = model.predict(padded_input)\n",
    "\n",
    "    if prediction > 0.7:\n",
    "        tweet_result.config(text=\"Disaster\",foreground = 'Red')\n",
    "    else:\n",
    "        tweet_result.config(text=\"Not a disaster, chill out!\", foreground = 'Green')\n",
    "\n",
    "root = tk.Tk()\n",
    "root.title(\"Disaster Tweet Prediction\")\n",
    "root.geometry(\"300x250\")\n",
    "\n",
    "tweet_label = tk.Label(root, text=\"Enter tweet:\",font = (\"Arial\", 12))\n",
    "tweet_label.pack(pady=10)\n",
    "\n",
    "tweet_input = tk.Entry(root,font=(\"Arial\",12))\n",
    "tweet_input.pack(pady=10)\n",
    "\n",
    "predict_button = tk.Button(root, text=\"Predict\", command=predict_tweet)\n",
    "predict_button.pack(pady=10)\n",
    "\n",
    "result_label = tk.Label(root, text=\"Result:\",font = (\"Arial\", 12))\n",
    "result_label.pack(pady=10)\n",
    "\n",
    "tweet_result = tk.Label(root, text=\"\",font = (\"Arial\", 16))\n",
    "tweet_result.pack(pady=10)\n",
    "\n",
    "root.mainloop()\n"
   ]
  }
 ],
 "metadata": {
  "kernelspec": {
   "display_name": "Python 3 (ipykernel)",
   "language": "python",
   "name": "python3"
  },
  "language_info": {
   "codemirror_mode": {
    "name": "ipython",
    "version": 3
   },
   "file_extension": ".py",
   "mimetype": "text/x-python",
   "name": "python",
   "nbconvert_exporter": "python",
   "pygments_lexer": "ipython3",
   "version": "3.9.13"
  },
  "papermill": {
   "default_parameters": {},
   "duration": 66.643576,
   "end_time": "2022-09-03T06:46:51.644136",
   "environment_variables": {},
   "exception": null,
   "input_path": "__notebook__.ipynb",
   "output_path": "__notebook__.ipynb",
   "parameters": {},
   "start_time": "2022-09-03T06:45:45.000560",
   "version": "2.3.4"
  }
 },
 "nbformat": 4,
 "nbformat_minor": 5
}
